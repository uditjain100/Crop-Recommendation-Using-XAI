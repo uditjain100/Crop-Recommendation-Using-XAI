{
 "cells": [
  {
   "cell_type": "code",
   "execution_count": 4,
   "metadata": {},
   "outputs": [],
   "source": [
    "import pandas as pd\n",
    "from sklearn.preprocessing import LabelEncoder, MinMaxScaler\n",
    "\n",
    "# Load dataset\n",
    "data = pd.read_csv('../dataset/crop_production.csv')\n",
    "\n",
    "# Drop unnecessary columns or missing values\n",
    "data.dropna(inplace=True)\n",
    "\n",
    "# Example of encoding categorical columns (e.g., State, Crop)\n",
    "categorical_cols = ['State_Name', 'District_Name', 'Season', 'Crop']\n",
    "encoder = LabelEncoder()\n",
    "\n",
    "for col in categorical_cols:\n",
    "    data[col] = encoder.fit_transform(data[col])\n",
    "\n",
    "# Scaling numerical columns (e.g., Area, Production)\n",
    "scaler = MinMaxScaler()\n",
    "numerical_cols = ['Area', 'Production']\n",
    "data[numerical_cols] = scaler.fit_transform(data[numerical_cols])\n",
    "\n",
    "# Save preprocessed dataset\n",
    "data.to_csv('./crop_production_processed.csv', index=False)\n"
   ]
  },
  {
   "cell_type": "code",
   "execution_count": 6,
   "metadata": {},
   "outputs": [],
   "source": [
    "from tensorflow.keras.preprocessing.sequence import TimeseriesGenerator\n",
    "import numpy as np\n",
    "import pandas as pd\n",
    "\n",
    "# Load preprocessed dataset\n",
    "data = pd.read_csv('./crop_production_processed.csv')\n",
    "\n",
    "# Define features and target\n",
    "features = data.drop(columns=['Production']).values\n",
    "target = data['Production'].values\n",
    "\n",
    "# Define sequence length\n",
    "sequence_length = 10\n",
    "\n",
    "# Define an 80-20 train-test split index\n",
    "split_index = int(len(features) * 0.8)\n",
    "\n",
    "# Split into training and testing sets\n",
    "train_features = features[:split_index]\n",
    "train_target = target[:split_index]\n",
    "\n",
    "test_features = features[split_index:]\n",
    "test_target = target[split_index:]\n",
    "\n",
    "# Generate sequences for training and validation sets\n",
    "sequence_length = 10\n",
    "batch_size = 32\n",
    "\n",
    "train_generator = TimeseriesGenerator(train_features, train_target, length=sequence_length, batch_size=32)\n",
    "val_generator = TimeseriesGenerator(test_features, test_target, length=sequence_length)"
   ]
  },
  {
   "cell_type": "code",
   "execution_count": 7,
   "metadata": {},
   "outputs": [
    {
     "data": {
      "text/plain": [
       "array([[0.00000000e+00, 4.27000000e+02, 2.00000000e+03, 1.00000000e+00,\n",
       "        2.00000000e+00, 1.46140490e-04],\n",
       "       [0.00000000e+00, 4.27000000e+02, 2.00000000e+03, 1.00000000e+00,\n",
       "        7.40000000e+01, 2.21442643e-07],\n",
       "       [0.00000000e+00, 4.27000000e+02, 2.00000000e+03, 1.00000000e+00,\n",
       "        9.50000000e+01, 1.18763186e-05],\n",
       "       ...,\n",
       "       [2.90000000e+01, 4.33000000e+02, 2.00700000e+03, 1.00000000e+00,\n",
       "        6.30000000e+01, 1.07108310e-05],\n",
       "       [2.90000000e+01, 4.33000000e+02, 2.00700000e+03, 1.00000000e+00,\n",
       "        7.40000000e+01, 5.41835183e-05],\n",
       "       [2.90000000e+01, 4.33000000e+02, 2.00700000e+03, 1.00000000e+00,\n",
       "        9.50000000e+01, 4.88338137e-03]], shape=(193888, 6))"
      ]
     },
     "execution_count": 7,
     "metadata": {},
     "output_type": "execute_result"
    }
   ],
   "source": [
    "train_features"
   ]
  },
  {
   "cell_type": "code",
   "execution_count": 12,
   "metadata": {},
   "outputs": [
    {
     "data": {
      "text/plain": [
       "6059"
      ]
     },
     "execution_count": 12,
     "metadata": {},
     "output_type": "execute_result"
    }
   ],
   "source": [
    "train_generator.num_batches"
   ]
  },
  {
   "cell_type": "code",
   "execution_count": null,
   "metadata": {},
   "outputs": [],
   "source": []
  }
 ],
 "metadata": {
  "kernelspec": {
   "display_name": "3.11.11",
   "language": "python",
   "name": "python3"
  },
  "language_info": {
   "codemirror_mode": {
    "name": "ipython",
    "version": 3
   },
   "file_extension": ".py",
   "mimetype": "text/x-python",
   "name": "python",
   "nbconvert_exporter": "python",
   "pygments_lexer": "ipython3",
   "version": "3.11.11"
  }
 },
 "nbformat": 4,
 "nbformat_minor": 2
}
