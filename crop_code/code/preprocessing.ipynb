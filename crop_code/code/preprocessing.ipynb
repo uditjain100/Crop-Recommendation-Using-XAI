{
 "cells": [
  {
   "cell_type": "markdown",
   "metadata": {},
   "source": [
    "<b><h2> CROP YIELD PREDICTION IN INDIA </h2></b>\n",
    "\n",
    "Predicting yield helps the state to get an estimate of the crop in a\n",
    "certain year to control the price rates.This model focuses on predicting the crop yield in advance by analyzing\n",
    "factors like location, season, and crop type  through machine learning techniques on\n",
    "previously collected datasets."
   ]
  },
  {
   "cell_type": "code",
   "execution_count": 23,
   "metadata": {},
   "outputs": [],
   "source": [
    "import warnings\n",
    "warnings.filterwarnings(action='ignore')\n",
    "\n",
    "from IPython.core.interactiveshell import InteractiveShell\n",
    "InteractiveShell.ast_node_interactivity = 'all'"
   ]
  },
  {
   "cell_type": "code",
   "execution_count": 24,
   "metadata": {},
   "outputs": [
    {
     "name": "stdout",
     "output_type": "stream",
     "text": [
      "State_Name          0\n",
      "District_Name       0\n",
      "Crop_Year           0\n",
      "Season              0\n",
      "Crop                0\n",
      "Area                0\n",
      "Production       3730\n",
      "dtype: int64\n"
     ]
    }
   ],
   "source": [
    "import pandas as pd\n",
    "\n",
    "df = pd.read_csv('../dataset/crop_production.csv')\n",
    "\n",
    "print(df.isnull().sum())\n",
    "\n",
    "df['Area'].fillna(df['Area'].mean(), inplace=True)\n",
    "df['Production'].fillna(df['Production'].mean(), inplace=True)\n",
    "\n",
    "df.dropna(subset=['Crop', 'Season'], inplace=True)\n",
    "\n",
    "df['Crop_Year'] = df['Crop_Year'].astype(int)\n",
    "df['Area'] = df['Area'].astype(float)\n",
    "df['Production'] = df['Production'].astype(float)\n",
    "\n",
    "df['State_Name'] = df['State_Name'].astype('category')\n",
    "df['District_Name'] = df['District_Name'].astype('category')\n",
    "df['Season'] = df['Season'].astype('category')\n",
    "df['Crop'] = df['Crop'].astype('category')\n",
    "\n",
    "df.drop_duplicates(inplace=True)\n",
    "\n",
    "df.columns = df.columns.str.lower()\n",
    "\n",
    "df['season'] = df['season'].str.strip() \n",
    "\n",
    "df['yield'] = df['production'] / df['area']\n",
    "\n",
    "# df['season_encoded'] = df['season'].cat.codes\n",
    "\n",
    "from sklearn.preprocessing import MinMaxScaler\n",
    "scaler = MinMaxScaler()\n",
    "df[['crop_year','area', 'production']] = scaler.fit_transform(df[['crop_year', 'area', 'production']])\n",
    "\n",
    "df = df[df['production'] > 0]\n",
    "\n",
    "df.to_csv('preprocessed_crop_production.csv', index=False)"
   ]
  },
  {
   "cell_type": "code",
   "execution_count": null,
   "metadata": {},
   "outputs": [],
   "source": []
  }
 ],
 "metadata": {
  "kernelspec": {
   "display_name": "Python 3",
   "language": "python",
   "name": "python3"
  },
  "language_info": {
   "codemirror_mode": {
    "name": "ipython",
    "version": 3
   },
   "file_extension": ".py",
   "mimetype": "text/x-python",
   "name": "python",
   "nbconvert_exporter": "python",
   "pygments_lexer": "ipython3",
   "version": "3.13.1"
  }
 },
 "nbformat": 4,
 "nbformat_minor": 2
}
